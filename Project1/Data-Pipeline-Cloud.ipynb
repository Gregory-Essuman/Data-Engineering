{
 "cells": [
  {
   "cell_type": "markdown",
   "id": "a2fe9f3f-d7fd-4bd1-a349-06a058908801",
   "metadata": {},
   "source": [
    "# DATA WAREHOUSING PET PROJECT \n",
    "\n",
    "Infrastructure - AWS S3, AWS RedShift"
   ]
  },
  {
   "cell_type": "code",
   "execution_count": 3,
   "id": "9cf2d72e-164a-41b9-bb5e-8b556138b115",
   "metadata": {},
   "outputs": [],
   "source": [
    "#Import necessary libraries\n",
    "\n",
    "import boto3\n",
    "import configparser\n",
    "import json\n",
    "import pandas as pd\n",
    "import psycopg2"
   ]
  },
  {
   "cell_type": "markdown",
   "id": "5e5a155b-65b3-4228-90fd-c52e3a03b79e",
   "metadata": {},
   "source": [
    "### CONFIGURATION OF AWS SERVICES\n",
    "\n",
    "The first part of this pet project invloves configuring AWS Services - S3, IAM, EC2 & REDSHIFT"
   ]
  },
  {
   "cell_type": "code",
   "execution_count": 4,
   "id": "5d581be9-0669-4175-a98e-65ae2970b8ab",
   "metadata": {},
   "outputs": [],
   "source": [
    "#Parsing the configuration file for the AWS service\n",
    "\n",
    "config = configparser.ConfigParser()\n",
    "config.read_file(open('cluster.config'))"
   ]
  },
  {
   "cell_type": "code",
   "execution_count": null,
   "id": "8810f618-1ebb-4492-b05f-2572827e0dcd",
   "metadata": {},
   "outputs": [],
   "source": [
    "config.get(\"AWS\", \"KEY\")"
   ]
  },
  {
   "cell_type": "code",
   "execution_count": null,
   "id": "a7393afc-77d5-4f38-a08f-e2587ff9c68f",
   "metadata": {},
   "outputs": [],
   "source": [
    "#Retrieving configuration details into variables\n",
    "\n",
    "KEY = config.get('AWS', 'KEY')\n",
    "SECRET = config.get('AWS', 'SECRET')\n",
    "\n",
    "DWH_CLUSTER_TYPE = config.get(\"DWH\", \"DWH_CLUSTER_TYPE\")\n",
    "DWH_NUM_MODES = config.get(\"DWH\", \"DWH_NUM_NODES\")\n",
    "DWH_NODE_TYPE = config.get(\"DWH\", \"DWH_NODE_TYPE\")\n",
    "\n",
    "DWH_CLUSTER_IDENTIFIER = config.get(\"DWH\", \"DWH_CLUSTER_IDENTIFIER\")\n",
    "DWH_DB = config.get(\"DWH\", \"DWH_DB\")\n",
    "DWH_DB_USER = config.get(\"DWH\", \"DWH_DB_USER\")\n",
    "DWH_DB_PASSWORD = config.get(\"DWH\", \"DWH_DB_PASSWORD\")\n",
    "DWH_PORT = config.get(\"DWH\", \"DWH_PORT\")\n",
    "\n",
    "DWH_IAM_ROLE_NAME = config.get(\"DWH\", \"DWH_IAM_ROLE_NAME\")\n",
    "\n",
    "(DWH_DB_USER, DWH_DB_PASSWORD, DWH_DB)"
   ]
  },
  {
   "cell_type": "markdown",
   "id": "1b262b34-e311-40cb-81b5-be3ec99f6b6d",
   "metadata": {},
   "source": [
    "### A sanity check to make sure Config Parameters and Values are accurate"
   ]
  },
  {
   "cell_type": "code",
   "execution_count": null,
   "id": "738bdbcb-c9a0-41ad-8880-485206d5736b",
   "metadata": {},
   "outputs": [],
   "source": [
    "pd.DataFrame({\"Param\":\n",
    "                  [\"DWH_CLUSTER_TYPE\", \"DWH_NUM_MODES\", \"DWH_NODE_TYPE\", \"DWH_CLUSTER_IDENTIFIER\", \"DWH_DB\", \"DWH_DB_USER\", \"DWH_DB_PASSWORD\", \"DWH_PORT\", \"DWH_IAM_ROLE_NAME\"], \n",
    "              \"Value\":\n",
    "                  [DWH_CLUSTER_TYPE, DWH_NUM_MODES, DWH_NODE_TYPE, DWH_CLUSTER_IDENTIFIER, DWH_DB, DWH_DB_USER, DWH_DB_PASSWORD, DWH_PORT, DWH_IAM_ROLE_NAME]\n",
    "             })"
   ]
  },
  {
   "cell_type": "markdown",
   "id": "428837cc-dd2c-46f1-985f-3e87257058f4",
   "metadata": {},
   "source": [
    "### INSTANTIATING AWS SERVICES\n",
    "\n",
    "The services are instantiated here to be used as objects"
   ]
  },
  {
   "cell_type": "code",
   "execution_count": 8,
   "id": "1af7f21c-c638-456f-ba99-9bebc51b84cb",
   "metadata": {},
   "outputs": [],
   "source": [
    "ec2 = boto3.resource('ec2',\n",
    "                        region_name=\"eu-west-3\",\n",
    "                        aws_access_key_id=KEY,\n",
    "                        aws_secret_access_key=SECRET\n",
    "                    )"
   ]
  },
  {
   "cell_type": "code",
   "execution_count": 9,
   "id": "ee514462-eb72-4a46-8f8e-c40982f83a7e",
   "metadata": {},
   "outputs": [],
   "source": [
    "s3 = boto3.resource('s3',\n",
    "                        region_name=\"eu-west-3\",\n",
    "                        aws_access_key_id=KEY,\n",
    "                        aws_secret_access_key=SECRET\n",
    "                    )"
   ]
  },
  {
   "cell_type": "code",
   "execution_count": 10,
   "id": "535a9ff4-18c5-4887-aeb1-059cad8779f1",
   "metadata": {},
   "outputs": [],
   "source": [
    "iam = boto3.client('iam',\n",
    "                        region_name=\"eu-west-3\",\n",
    "                        aws_access_key_id=KEY,\n",
    "                        aws_secret_access_key=SECRET\n",
    "                    )"
   ]
  },
  {
   "cell_type": "code",
   "execution_count": 11,
   "id": "9f8cfe79-b173-48e4-80fb-6e49ae540946",
   "metadata": {},
   "outputs": [],
   "source": [
    "redshift = boto3.client('redshift',\n",
    "                        region_name=\"eu-west-3\",\n",
    "                        aws_access_key_id=KEY,\n",
    "                        aws_secret_access_key=SECRET\n",
    "                    )"
   ]
  },
  {
   "cell_type": "code",
   "execution_count": 12,
   "id": "8a0c9839-7493-4670-b61f-5c26fa6901f5",
   "metadata": {},
   "outputs": [
    {
     "data": {
      "text/plain": [
       "['allevents_pipe.txt',\n",
       " 'allusers_pipe.txt',\n",
       " 'category_pipe.txt',\n",
       " 'date2008_pipe.txt',\n",
       " 'listings_pipe.txt',\n",
       " 'sales_tab.txt',\n",
       " 'venue_pipe.txt']"
      ]
     },
     "execution_count": 12,
     "metadata": {},
     "output_type": "execute_result"
    }
   ],
   "source": [
    "bucket = s3.Bucket(\"gregg-test-bucket\")\n",
    "log_data_files = [filename.key for filename in bucket.objects.filter(Prefix='')]\n",
    "log_data_files"
   ]
  },
  {
   "cell_type": "markdown",
   "id": "2d6c3fcb-9d4e-45f9-b292-f5289828e5e7",
   "metadata": {},
   "source": [
    "### A role is assigned to AWS Redshift to be able to retrieve data from S3"
   ]
  },
  {
   "cell_type": "code",
   "execution_count": 13,
   "id": "0b11b132-fa2e-44f9-9f15-51a1c1f40c16",
   "metadata": {},
   "outputs": [],
   "source": [
    "roleArn = iam.get_role(RoleName=DWH_IAM_ROLE_NAME)['Role']['Arn']"
   ]
  },
  {
   "cell_type": "code",
   "execution_count": null,
   "id": "f0dd62b8-dd6a-49d3-97f4-0f9b0fcd796d",
   "metadata": {},
   "outputs": [],
   "source": [
    "roleArn"
   ]
  },
  {
   "cell_type": "markdown",
   "id": "cc8749da-7a83-47f0-9048-eb87076fc3b9",
   "metadata": {},
   "source": [
    "### AWS REDSHIFT CLUSTER CREATION"
   ]
  },
  {
   "cell_type": "code",
   "execution_count": 18,
   "id": "bb70b1bf-fc75-4b46-b17e-112e38eb2529",
   "metadata": {},
   "outputs": [
    {
     "name": "stdout",
     "output_type": "stream",
     "text": [
      "\n"
     ]
    }
   ],
   "source": [
    "try:\n",
    "    response = redshift.create_cluster(\n",
    "    ClusterType=DWH_CLUSTER_TYPE,\n",
    "    NodeType=DWH_NODE_TYPE,\n",
    "        \n",
    "    #Identiiers & Credentials\n",
    "    DBName=DWH_DB,\n",
    "    ClusterIdentifier=DWH_CLUSTER_IDENTIFIER,\n",
    "    MasterUsername=DWH_DB_USER,\n",
    "    MasterUserPassword=DWH_DB_PASSWORD,\n",
    "        \n",
    "    #Roles (for s3 access)\n",
    "    IamRoles=[roleArn]\n",
    "    )\n",
    "except Exception as e:\n",
    "    print()"
   ]
  },
  {
   "cell_type": "code",
   "execution_count": null,
   "id": "22c95c53-da1c-4aeb-8401-766089e64823",
   "metadata": {},
   "outputs": [],
   "source": [
    "redshift.describe_clusters(ClusterIdentifier=DWH_CLUSTER_IDENTIFIER)['Clusters'][0]"
   ]
  },
  {
   "cell_type": "code",
   "execution_count": null,
   "id": "8dc7d7ec-3a54-4d5c-bf15-2fb0a36e099d",
   "metadata": {},
   "outputs": [],
   "source": [
    "#Defining a function to return a pandas DataFrame consisting of cluster properties.\n",
    "\n",
    "def prettyRedShiftProps(props):\n",
    "    \"\"\"\n",
    "    Function to return a DataFrame of Cluster Properties\n",
    "    Parameter - Cluster Properties. Data Type: Dictionary\n",
    "    Return Value - Pandas DataFrame\n",
    "    \"\"\"\n",
    "    \n",
    "    pd.set_option('display.max_colwidth', -1)\n",
    "    keysToShow = [\"ClusterIdentifier\", \"NodeType\", \"ClusterStatus\", \"MasterUsername\", \"DBName\", \"Endpoint\", \"VpcId\"]\n",
    "    x = [(k,v) for k,v in props.items() if k in keysToShow]\n",
    "    return pd.DataFrame(data=x, columns=[\"key\", \"Value\"])\n",
    "\n",
    "#Getting Argument for function\n",
    "myClusterProps = redshift.describe_clusters(ClusterIdentifier=DWH_CLUSTER_IDENTIFIER)[\"Clusters\"][0]\n",
    "\n",
    "#Invoking the Function\n",
    "prettyRedShiftProps(myClusterProps)"
   ]
  },
  {
   "cell_type": "code",
   "execution_count": 21,
   "id": "164a598d-be77-4edb-a687-96ec2eda262f",
   "metadata": {},
   "outputs": [],
   "source": [
    "DWH_ENDPOINT = myClusterProps['Endpoint']['Address']\n",
    "DWH_ROLE_ARN = myClusterProps['IamRoles'][0]['IamRoleArn']\n",
    "DB_NAME = myClusterProps['DBName']\n",
    "DB_USER = myClusterProps['MasterUsername']"
   ]
  },
  {
   "cell_type": "code",
   "execution_count": null,
   "id": "fe56df4b-96fa-4a13-a20d-14743ac18d06",
   "metadata": {},
   "outputs": [],
   "source": [
    "DB_NAME"
   ]
  },
  {
   "cell_type": "markdown",
   "id": "f164d85d-f6ae-410a-9131-5ba5db966394",
   "metadata": {
    "tags": []
   },
   "source": [
    "### SETTING UP VIRTUAL PRIVATE CLOUD \n",
    "\n",
    "A VPC is set up around EC2 "
   ]
  },
  {
   "cell_type": "code",
   "execution_count": null,
   "id": "7978baa6-328e-419e-9092-6b60d202479a",
   "metadata": {},
   "outputs": [],
   "source": [
    "try:\n",
    "    vpc = ec2.Vpc(id=myClusterProps['VpcId'])\n",
    "    defaultSg = list(vpc.security_groups.all())[0]\n",
    "    print(defaultSg)\n",
    "    \n",
    "    defaultSg.authorize_ingress(\n",
    "        GroupName=defaultSg.group_name,\n",
    "        CidrIp = '0.0.0.0/0',\n",
    "        IpProtocol='TCP',\n",
    "        FromPort=int(DWH_PORT),\n",
    "        ToPort=int(DWH_PORT)\n",
    "    )\n",
    "except Exception as e:\n",
    "    print(e)"
   ]
  },
  {
   "cell_type": "markdown",
   "id": "2a959e7e-1aea-422e-a71f-21f681b53d44",
   "metadata": {},
   "source": [
    "### CONNECTION TO DATABASE\n",
    "\n",
    "This part of the pet project focuses on connecting to the Database (Redshift) and creating fact and dimension tables."
   ]
  },
  {
   "cell_type": "code",
   "execution_count": 23,
   "id": "aff83d41-56d0-4a6a-9d02-808bf97c6867",
   "metadata": {},
   "outputs": [],
   "source": [
    "try: \n",
    "    conn = psycopg2.connect(host=DWH_ENDPOINT, dbname=DB_NAME, user=DB_USER, password='johndoe', port=5439)\n",
    "except psycopg2.Error as e: \n",
    "    print(\"Error: Could not make connection to the database\")\n",
    "    print(e)\n",
    "                            \n",
    "conn.set_session(autocommit=True)"
   ]
  },
  {
   "cell_type": "code",
   "execution_count": 24,
   "id": "ed44ce58-4ab9-4a4a-b9f4-2b555e94672a",
   "metadata": {},
   "outputs": [],
   "source": [
    "try: \n",
    "    cur = conn.cursor()\n",
    "except psycopg2.Error as e: \n",
    "    print(\"Error: Could not get curser to the Database\")\n",
    "    print(e)"
   ]
  },
  {
   "cell_type": "code",
   "execution_count": 25,
   "id": "5daba904-d2c1-4b4b-a68d-d3b28a776a13",
   "metadata": {},
   "outputs": [],
   "source": [
    "try:\n",
    "    cur.execute(\"\"\"create table users(\n",
    "    userid integer not null distkey sortkey,\n",
    "    username char(8),\n",
    "    firstname varchar(30),\n",
    "    lastname varchar(30),\n",
    "    city varchar(30),\n",
    "    state char(2),\n",
    "    email varchar(100),\n",
    "    phone char(14),\n",
    "    likesports boolean,\n",
    "    liketheatre boolean,\n",
    "    likeconcerts boolean,\n",
    "    likejazz boolean,\n",
    "    likeclassical boolean,\n",
    "    likeopera boolean,\n",
    "    likerock boolean,\n",
    "    likebroadway boolean,\n",
    "    likemusicals boolean);\"\"\")\n",
    "    \n",
    "except psycopg2.Error as e:\n",
    "    print(\"Error: Issue creating table\")\n",
    "    print(e)"
   ]
  },
  {
   "cell_type": "code",
   "execution_count": 27,
   "id": "e5f901db-8c65-4c34-8ed8-6963c628395f",
   "metadata": {},
   "outputs": [],
   "source": [
    "try:\n",
    "    cur.execute(\"\"\"create table venue(\n",
    "    venueid smallint not null distkey sortkey,\n",
    "    venuename varchar(100),\n",
    "    venuecity varchar(30),\n",
    "    venuestate char(2),\n",
    "    venueseats integer);\"\"\")\n",
    "    \n",
    "except psycopg2.Error as e:\n",
    "    print(\"Error: Issue creating table\")\n",
    "    print(e)"
   ]
  },
  {
   "cell_type": "code",
   "execution_count": 29,
   "id": "ea91f2d3-3b75-4953-a2fa-acdd09bfca97",
   "metadata": {},
   "outputs": [],
   "source": [
    "try:\n",
    "    cur.execute(\"\"\"create table category(\n",
    "    catid smallint not null distkey sortkey,\n",
    "    catgroup varchar(10),\n",
    "    catname varchar(10),\n",
    "    catdesc varchar(50));\n",
    "    \n",
    "        create table date(\n",
    "    dateid smallint not null distkey sortkey,\n",
    "    caldate date not null,\n",
    "    day character(3) not null,\n",
    "    week smallint not null,\n",
    "    month character(5) not null,\n",
    "    qtr character(5) not null,\n",
    "    year smallint not null,\n",
    "    holiday boolean default('N'));\n",
    "    \n",
    "        create table event(\n",
    "    eventid integer not null distkey,\n",
    "    venueid smallint not null,\n",
    "    catid smallint not null,\n",
    "    dateid smallint not null sortkey,\n",
    "    eventname varchar(200),\n",
    "    starttime timestamp);\n",
    "    \n",
    "        create table listing(\n",
    "    listid integer not null distkey,\n",
    "    sellerid integer not null,\n",
    "    eventid integer not null,\n",
    "    dateid smallint not null sortkey,\n",
    "    numtickets smallint not null,\n",
    "    priceperticket decimal(8,2),\n",
    "    listtime timestamp);\n",
    "    \n",
    "    \"\"\")\n",
    "    \n",
    "except psycopg2.Error as e:\n",
    "    print(\"Error: Issue creating table\")\n",
    "    print(e)"
   ]
  },
  {
   "cell_type": "markdown",
   "id": "54cd7b23-130a-457c-9300-35ceb5844b56",
   "metadata": {},
   "source": [
    "### Data is copied from S3 to Redshift cluster in this section"
   ]
  },
  {
   "cell_type": "code",
   "execution_count": null,
   "id": "10753afa-2da1-49c4-85ba-f5c0ba3dcef7",
   "metadata": {},
   "outputs": [],
   "source": [
    "try:\n",
    "    cur.execute(\"\"\"\n",
    "    copy users from 's3://gregg-test-bucket/allusers_pipe.txt'\n",
    "    credentials 'aws_iam_role=arn:aws:iam::819056877307:role/redshift-s3-access'\n",
    "    delimiter '|'\n",
    "    region 'eu-west-3'\n",
    "    \"\"\")\n",
    "    \n",
    "except psycopg2.Error as e:\n",
    "    print(\"Error: Issue creating table\")\n",
    "    print(e)  "
   ]
  },
  {
   "cell_type": "code",
   "execution_count": null,
   "id": "88df3186-0aeb-4e07-b31b-60d995cb3c71",
   "metadata": {},
   "outputs": [],
   "source": [
    "try:\n",
    "    cur.execute(\"\"\"\n",
    "    copy users from 's3://gregg-test-bucket/category_pipe.txt'\n",
    "    credentials 'aws_iam_role=arn:aws:iam::819056877307:role/redshift-s3-access'\n",
    "    delimiter '|'\n",
    "    region 'eu-west-3'\n",
    "    \"\"\")\n",
    "    \n",
    "except psycopg2.Error as e:\n",
    "    print(\"Error: Issue creating table\")\n",
    "    print(e)  "
   ]
  },
  {
   "cell_type": "code",
   "execution_count": null,
   "id": "6dd84f22-3feb-484e-b72f-f88f54a6eaef",
   "metadata": {},
   "outputs": [],
   "source": [
    "try:\n",
    "    cur.execute(\"\"\"\n",
    "    copy users from 's3://gregg-test-bucket/venue_pipe.txt'\n",
    "    credentials 'aws_iam_role=arn:aws:iam::819056877307:role/redshift-s3-access'\n",
    "    delimiter '|'\n",
    "    region 'eu-west-3'\n",
    "    \"\"\")\n",
    "    \n",
    "except psycopg2.Error as e:\n",
    "    print(\"Error: Issue creating table\")\n",
    "    print(e)  "
   ]
  },
  {
   "cell_type": "code",
   "execution_count": null,
   "id": "f5e42e49-1498-4f89-82c5-eb17c5c76924",
   "metadata": {},
   "outputs": [],
   "source": [
    "try:\n",
    "    cur.execute(\"\"\"\n",
    "    copy users from 's3://gregg-test-bucket/date2008_pipe.txt'\n",
    "    credentials 'aws_iam_role=arn:aws:iam::819056877307:role/redshift-s3-access'\n",
    "    delimiter '|'\n",
    "    region 'eu-west-3'\n",
    "    \"\"\")\n",
    "    \n",
    "except psycopg2.Error as e:\n",
    "    print(\"Error: Issue creating table\")\n",
    "    print(e)  "
   ]
  },
  {
   "cell_type": "code",
   "execution_count": null,
   "id": "f161faf6-ccdf-48d9-a956-5493bb093eba",
   "metadata": {},
   "outputs": [],
   "source": [
    "try:\n",
    "    cur.execute(\"\"\"\n",
    "    copy users from 's3://gregg-test-bucket/allevents_pipe.txt'\n",
    "    credentials 'aws_iam_role=arn:aws:iam::819056877307:role/redshift-s3-access'\n",
    "    delimiter '|'\n",
    "    region 'eu-west-3'\n",
    "    \"\"\")\n",
    "    \n",
    "except psycopg2.Error as e:\n",
    "    print(\"Error: Issue creating table\")\n",
    "    print(e)  "
   ]
  },
  {
   "cell_type": "code",
   "execution_count": null,
   "id": "04b9f784-1e42-46b6-a589-224a4ecd461b",
   "metadata": {},
   "outputs": [],
   "source": [
    "try:\n",
    "    cur.execute(\"\"\"\n",
    "    copy users from 's3://gregg-test-bucket/listings_pipe.txt'\n",
    "    credentials 'aws_iam_role=arn:aws:iam::819056877307:role/redshift-s3-access'\n",
    "    delimiter '|'\n",
    "    region 'eu-west-3'\n",
    "    \"\"\")\n",
    "    \n",
    "except psycopg2.Error as e:\n",
    "    print(\"Error: Issue creating table\")\n",
    "    print(e)  "
   ]
  },
  {
   "cell_type": "markdown",
   "id": "d7592035-39c8-42d5-86fa-f0f3d3f4f3c7",
   "metadata": {},
   "source": [
    "### Sanity check of Database tables"
   ]
  },
  {
   "cell_type": "code",
   "execution_count": null,
   "id": "1b1bb7ae-4f7b-4d78-9382-c2ed9a34fd35",
   "metadata": {},
   "outputs": [],
   "source": [
    "try:\n",
    "    cur.execute(\"\"\"\n",
    "        select * from users;\n",
    "    \"\"\")\n",
    "except psycopg2.Error as e:\n",
    "    print(\"Error: Issue creating table\")\n",
    "    print(e)"
   ]
  },
  {
   "cell_type": "code",
   "execution_count": null,
   "id": "26e3561d-2730-4cab-a93d-60870894bd4e",
   "metadata": {},
   "outputs": [],
   "source": [
    "row = cur.fetchone()\n",
    "while row:\n",
    "    print(row)\n",
    "    row = cur.fetchone()\n",
    "    break"
   ]
  },
  {
   "cell_type": "markdown",
   "id": "cbebda98-69dd-4ab3-b0c4-bceeef143353",
   "metadata": {},
   "source": [
    "### Closing and Deleting the cluster"
   ]
  },
  {
   "cell_type": "code",
   "execution_count": null,
   "id": "b7c68f8b-da8d-404e-8183-457fef8a4bb4",
   "metadata": {},
   "outputs": [],
   "source": [
    "try:\n",
    "    conn.close()\n",
    "except psycopg2.Error as e:\n",
    "    print(e)"
   ]
  },
  {
   "cell_type": "code",
   "execution_count": null,
   "id": "e360c8fc-ce88-4c97-ae8c-63de6a6198f1",
   "metadata": {},
   "outputs": [],
   "source": [
    "redshift.delete_cluster(ClusterIdentifier=DWH_CLUSTER_IDENTIFIER, SkipFinalClusterSnapshot=True)"
   ]
  }
 ],
 "metadata": {
  "kernelspec": {
   "display_name": "Python 3 (ipykernel)",
   "language": "python",
   "name": "python3"
  },
  "language_info": {
   "codemirror_mode": {
    "name": "ipython",
    "version": 3
   },
   "file_extension": ".py",
   "mimetype": "text/x-python",
   "name": "python",
   "nbconvert_exporter": "python",
   "pygments_lexer": "ipython3",
   "version": "3.9.7"
  }
 },
 "nbformat": 4,
 "nbformat_minor": 5
}
